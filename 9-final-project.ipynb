{
 "cells": [
  {
   "cell_type": "markdown",
   "id": "f1dded48",
   "metadata": {},
   "source": [
    "# Chessboard recognition system\n",
    "\n",
    "&copy; 李浩东 3190104890@zju.edu.cn\n",
    "\n",
    "- Hough circle detection\n",
    "- Convolutional neural network (CNN)\n",
    "- TCP connection\n"
   ]
  }
 ],
 "metadata": {
  "kernelspec": {
   "display_name": "Python 3 (ipykernel)",
   "language": "python",
   "name": "python3"
  },
  "language_info": {
   "codemirror_mode": {
    "name": "ipython",
    "version": 3
   },
   "file_extension": ".py",
   "mimetype": "text/x-python",
   "name": "python",
   "nbconvert_exporter": "python",
   "pygments_lexer": "ipython3",
   "version": "3.9.9"
  }
 },
 "nbformat": 4,
 "nbformat_minor": 5
}
