{
 "cells": [
  {
   "cell_type": "markdown",
   "id": "814c8fc7",
   "metadata": {
    "slideshow": {
     "slide_type": "slide"
    }
   },
   "source": [
    "# Advanced image processes\n",
    "\n",
    "&copy; 李浩东 3190104890@zju.edu.cn\n",
    "\n",
    "- Image gradient\n",
    "- Edge detection\n",
    "- `Blob` detection algorithm\n"
   ]
  },
  {
   "cell_type": "markdown",
   "id": "7007d787",
   "metadata": {
    "slideshow": {
     "slide_type": "slide"
    }
   },
   "source": [
    "# Image gradient\n",
    "\n",
    "![image_gradient](./images/image_gradient.png)\n"
   ]
  },
  {
   "cell_type": "markdown",
   "id": "ef59ed60",
   "metadata": {
    "slideshow": {
     "slide_type": "slide"
    }
   },
   "source": [
    "# Edge detection\n",
    "\n",
    "![edge_detection](./images/edge_detection.png)\n"
   ]
  },
  {
   "cell_type": "markdown",
   "id": "31126315",
   "metadata": {
    "slideshow": {
     "slide_type": "slide"
    }
   },
   "source": [
    "# Blob detection\n",
    "\n",
    "![blob_detection](./images/blob_detection.png)\n"
   ]
  }
 ],
 "metadata": {
  "celltoolbar": "Slideshow",
  "kernelspec": {
   "display_name": "Python 3 (ipykernel)",
   "language": "python",
   "name": "python3"
  },
  "language_info": {
   "codemirror_mode": {
    "name": "ipython",
    "version": 3
   },
   "file_extension": ".py",
   "mimetype": "text/x-python",
   "name": "python",
   "nbconvert_exporter": "python",
   "pygments_lexer": "ipython3",
   "version": "3.9.9"
  }
 },
 "nbformat": 4,
 "nbformat_minor": 5
}
