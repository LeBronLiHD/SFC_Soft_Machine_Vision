{
 "cells": [
  {
   "cell_type": "markdown",
   "id": "70b739ea",
   "metadata": {},
   "source": [
    "# Image Basics\n",
    "\n",
    "&copy; 李浩东 3190104890@zju.edu.cn\n",
    "\n",
    "##### Image process\n",
    "##### Brief introduction of OpenCV\n",
    "##### Pixels, colors, and image formats"
   ]
  },
  {
   "cell_type": "markdown",
   "id": "c1847a8b",
   "metadata": {},
   "source": [
    "## Image process"
   ]
  }
 ],
 "metadata": {
  "kernelspec": {
   "display_name": "Python 3.10 (ipykernel)",
   "language": "python",
   "name": "python3"
  },
  "language_info": {
   "codemirror_mode": {
    "name": "ipython",
    "version": 3
   },
   "file_extension": ".py",
   "mimetype": "text/x-python",
   "name": "python",
   "nbconvert_exporter": "python",
   "pygments_lexer": "ipython3",
   "version": "3.10.2"
  }
 },
 "nbformat": 4,
 "nbformat_minor": 5
}
