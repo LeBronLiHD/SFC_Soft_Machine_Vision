{
 "cells": [
  {
   "cell_type": "markdown",
   "id": "8548eb19",
   "metadata": {
    "slideshow": {
     "slide_type": "slide"
    }
   },
   "source": [
    "# Introduction\n",
    "\n",
    "&copy; 王小龙 3180105098@zju.edu.cn\n",
    "\n",
    "&copy; 李浩东 3190104890@zju.edu.cn"
   ]
  },
  {
   "cell_type": "markdown",
   "id": "cbfeca67",
   "metadata": {
    "slideshow": {
     "slide_type": "slide"
    }
   },
   "source": [
    "## Basic Information\n",
    "\n",
    "- 智能工厂软机器视觉精品课程\n",
    "- 浙江大学学生智能工厂创新俱乐部\n",
    "- 上课地点：\n",
    "- 上课时间：\n",
    "| 时间 | 内容 |\n",
    "|:----:|:----:|\n",
    "| A| B|"
   ]
  },
  {
   "cell_type": "markdown",
   "id": "174999fe",
   "metadata": {
    "slideshow": {
     "slide_type": "slide"
    }
   },
   "source": [
    "- TODO\n",
    "- 选课人数：\n",
    "- 人员分布图\n",
    "\n",
    "![img1](./images/student_distribution.png)"
   ]
  },
  {
   "cell_type": "markdown",
   "id": "b80d794f",
   "metadata": {
    "slideshow": {
     "slide_type": "slide"
    }
   },
   "source": [
    "## Course Outline\n",
    "\n",
    "- 图像基本知识：像素、色彩、图像格式\n",
    "- 图像处理技术：滤波、二值化、切割、形态学变换，尺度与旋转变换、图像梯度\n",
    "- 图像模式识别：直线与圆的检测、特征点检测、边缘检测、`Blob`检测、特征点检测、模板匹配"
   ]
  },
  {
   "cell_type": "markdown",
   "id": "b40861d5",
   "metadata": {
    "slideshow": {
     "slide_type": "slide"
    }
   },
   "source": [
    "- 神经网络基础：神经元结构、多层感知机、损失函数、梯度下降、`Back Propagation`\n",
    "- 神经网络基础：`Softmax`回归、深度神经网络、卷积神经网络\n",
    "- 神经网络基础：循环神经网络、`NLP`自然语言处理、云服务器资源\n",
    "- 大作业与答疑"
   ]
  },
  {
   "cell_type": "markdown",
   "id": "7291c8b3",
   "metadata": {
    "slideshow": {
     "slide_type": "slide"
    }
   },
   "source": [
    "## Configuration\n",
    "\n",
    "- Python [link](https://www.python.org/)\n",
    "\n",
    "![py_1](./images/py_install_1.png)"
   ]
  },
  {
   "cell_type": "markdown",
   "id": "3821832f",
   "metadata": {
    "slideshow": {
     "slide_type": "slide"
    }
   },
   "source": [
    "![py_1](./images/py_install_2.png)"
   ]
  },
  {
   "cell_type": "markdown",
   "id": "886ddbd5",
   "metadata": {
    "slideshow": {
     "slide_type": "slide"
    }
   },
   "source": [
    "![py_1](./images/py_install_3.png)"
   ]
  },
  {
   "cell_type": "markdown",
   "id": "c9ab890c",
   "metadata": {
    "slideshow": {
     "slide_type": "slide"
    }
   },
   "source": [
    "![py_1](./images/py_install_4.png)"
   ]
  },
  {
   "cell_type": "markdown",
   "id": "b93d29e4",
   "metadata": {
    "slideshow": {
     "slide_type": "slide"
    }
   },
   "source": [
    "```python\n",
    "PS F:\\> F:\\Python310\\python.exe\n",
    "Python 3.10.2 (tags/v3.10.2:a58ebcc, Jan 17 2022, 14:12:15) [MSC v.1929 64 bit (AMD64)] on win32\n",
    "Type \"help\", \"copyright\", \"credits\" or \"license\" for more information.\n",
    ">>> exit()\n",
    "```"
   ]
  },
  {
   "cell_type": "markdown",
   "id": "9b9b7424",
   "metadata": {
    "slideshow": {
     "slide_type": "slide"
    }
   },
   "source": [
    "- jupyter notebook or jupyter lab [link](https://jupyter.org/install)\n",
    "    - `python.exe -m pip install jupyterlab`\n",
    "    - `jupyter-lab`\n",
    "    - `python.exe -m pip install notebook`\n",
    "    - `jupyter notebook`\n",
    "    - `python.exe -m pip install RISE`"
   ]
  },
  {
   "cell_type": "markdown",
   "id": "85f8cc42",
   "metadata": {
    "slideshow": {
     "slide_type": "slide"
    }
   },
   "source": [
    "- OpenCV [link](https://pypi.org/project/opencv-python/)\n",
    "    - `python.exe -m pip install opencv-python`\n",
    "- Required packages\n",
    "    - `python.exe -m pip install -r requirements.txt`\n",
    "- VS Code [link](https://code.visualstudio.com/)\n",
    "    - Config python3.10.2 in your vscode"
   ]
  },
  {
   "cell_type": "markdown",
   "id": "9c7a645d",
   "metadata": {},
   "source": [
    "## Test configuration\n",
    "\n",
    "- `python.exe .\\test_opencv.py`\n",
    "- `../images/cat.jpg`\n",
    "- 键盘上按`Esc`或者`q`关闭窗口"
   ]
  },
  {
   "cell_type": "markdown",
   "id": "7627c9b8",
   "metadata": {},
   "source": [
    "![img](./images/cat-screenshot.jpg)"
   ]
  },
  {
   "cell_type": "markdown",
   "id": "e0d4cb38",
   "metadata": {
    "slideshow": {
     "slide_type": "slide"
    }
   },
   "source": [
    "## The End\n",
    "\n",
    "2022.3"
   ]
  }
 ],
 "metadata": {
  "celltoolbar": "Slideshow",
  "kernelspec": {
   "display_name": "Python 3 (ipykernel)",
   "language": "python",
   "name": "python3"
  },
  "language_info": {
   "codemirror_mode": {
    "name": "ipython",
    "version": 3
   },
   "file_extension": ".py",
   "mimetype": "text/x-python",
   "name": "python",
   "nbconvert_exporter": "python",
   "pygments_lexer": "ipython3",
   "version": "3.9.7"
  }
 },
 "nbformat": 4,
 "nbformat_minor": 5
}
