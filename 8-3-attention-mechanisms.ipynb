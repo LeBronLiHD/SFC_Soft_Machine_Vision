{
 "cells": [
  {
   "cell_type": "markdown",
   "id": "e7240454",
   "metadata": {
    "slideshow": {
     "slide_type": "slide"
    }
   },
   "source": [
    "# Attention Mechanisms\n",
    "\n",
    "&copy; 李浩东 3190104890@zju.edu.cn\n",
    "\n",
    "- A\n",
    "- B\n",
    "- Transformer\n"
   ]
  }
 ],
 "metadata": {
  "celltoolbar": "Slideshow",
  "kernelspec": {
   "display_name": "Python 3 (ipykernel)",
   "language": "python",
   "name": "python3"
  },
  "language_info": {
   "codemirror_mode": {
    "name": "ipython",
    "version": 3
   },
   "file_extension": ".py",
   "mimetype": "text/x-python",
   "name": "python",
   "nbconvert_exporter": "python",
   "pygments_lexer": "ipython3",
   "version": "3.9.12"
  }
 },
 "nbformat": 4,
 "nbformat_minor": 5
}
