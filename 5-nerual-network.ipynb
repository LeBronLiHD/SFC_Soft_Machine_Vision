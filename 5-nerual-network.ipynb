{
 "cells": [
  {
   "cell_type": "markdown",
   "id": "01821a56",
   "metadata": {
    "slideshow": {
     "slide_type": "slide"
    }
   },
   "source": [
    "# <center>机器视觉精品课程-神经网络部分 </center>"
   ]
  },
  {
   "cell_type": "markdown",
   "id": "faa59077",
   "metadata": {
    "slideshow": {
     "slide_type": "slide"
    }
   },
   "source": [
    "### 授课内容\n",
    "- **神经网络基础：损失函数、神经元结构、多层感知机、手写数字识别**\n",
    "- 神经网络基础：梯度下降、`Back Propagation`\n",
    "- 神经网络基础：`Softmax`回归、深度神经网络、卷积神经网络\n",
    "- 神经网络基础：循环神经网络、`NLP`自然语言处理、服务器资源、线上课程资源"
   ]
  },
  {
   "cell_type": "markdown",
   "id": "9531c82f",
   "metadata": {
    "slideshow": {
     "slide_type": "slide"
    }
   },
   "source": [
    "<div align=center>\n",
    "<img src=\"images/图像识别/幻灯片3.JPG\" alt=\"幻灯片\" style=\"zoom:120%;\" />"
   ]
  },
  {
   "cell_type": "markdown",
   "id": "2ebe02d8",
   "metadata": {
    "slideshow": {
     "slide_type": "slide"
    }
   },
   "source": [
    "<div align=center>\n",
    "    <img src=\"images/图像识别/幻灯片4.JPG\" alt=\"幻灯片\" style=\"zoom:120%;\" />"
   ]
  },
  {
   "cell_type": "markdown",
   "id": "493f633b",
   "metadata": {
    "slideshow": {
     "slide_type": "slide"
    }
   },
   "source": [
    "<div align=center>\n",
    "    <img src=\"images/图像识别/幻灯片5.JPG\" alt=\"幻灯片\" style=\"zoom:120%;\" />"
   ]
  },
  {
   "cell_type": "markdown",
   "id": "623f13dc",
   "metadata": {
    "slideshow": {
     "slide_type": "slide"
    }
   },
   "source": [
    "<div align=center>\n",
    "    <img src=\"images/图像识别/幻灯片6.JPG\" alt=\"幻灯片\" style=\"zoom:120%;\" />"
   ]
  },
  {
   "cell_type": "markdown",
   "id": "febc04e9",
   "metadata": {
    "slideshow": {
     "slide_type": "slide"
    }
   },
   "source": [
    "# 举例-线性回归\n",
    "\n",
    "- **回归**（regression）是能为一个或多个自变量与因变量之间关系建模的一类方法。\n",
    "\n",
    "- 在机器学习领域中的大多数任务通常都与**预测**（prediction）有关。\n",
    "\n",
    "- 常见的例子包括：预测价格（房屋、股票等）、预测住院时间（针对住院病人等）、预测需求（零售销量等）。"
   ]
  },
  {
   "cell_type": "markdown",
   "id": "ed2ed5c0",
   "metadata": {
    "slideshow": {
     "slide_type": "slide"
    }
   },
   "source": [
    "## 线性回归的基本元素\n",
    "\n",
    "为了解释**线性回归**，我们举一个实际的例子：\n",
    "我们希望根据房屋的$\\color{red} {面积} $（平方英尺）和$\\color{red} {房龄} $（年）来估算$\\color{red} {房屋价格} $（美元）。\n",
    "为了开发一个能预测房价的模型，我们需要收集一个真实的数据集。\n",
    "这个数据集包括了房屋的销售价格、面积和房龄。\n",
    "\n",
    "在机器学习的术语中\n",
    "- 数据集会被分为为*训练数据集*（training data set）或*训练集*（training set）。\n",
    "- 每行数据（比如一次房屋交易相对应的数据）称为*样本*（sample），也可以称为*数据点*（data point）或*数据样本*（data instance）。\n",
    "- 把试图预测的目标（比如预测房屋价格）称为*标签*（label）或*目标*（target）。\n",
    "- 预测所依据的自变量（面积和房龄）称为*特征*（feature）或*协变量*（covariate）。\n",
    "\n",
    "通常，我们使用$n$来表示数据集中的样本数。\n",
    "对索引为$i$的样本，其输入表示为$\\mathbf{x}^{(i)} = [x_1^{(i)}, x_2^{(i)}]^\\top$，\n",
    "其对应的标签是$y^{(i)}$。"
   ]
  },
  {
   "cell_type": "markdown",
   "id": "3ebe06fd",
   "metadata": {
    "slideshow": {
     "slide_type": "slide"
    }
   },
   "source": [
    "# <center>模型 = 框架 + 参数</center>\n",
    "### 线性模型\n",
    "\n",
    "\n",
    "线性假设目标（房屋价格）可以表示为特征（面积和房龄）的加权和，如下面的式子：\n",
    "\n",
    "$$\\mathrm{price} = w_{\\mathrm{area}} \\cdot \\mathrm{area} + w_{\\mathrm{age}} \\cdot \\mathrm{age} + b.$$\n",
    "\n",
    "其中：\n",
    "- $area$和$age$ 称为*特征*（feature）。\n",
    "- $w_{\\mathrm{area}}$和$w_{\\mathrm{age}}$ 称为*权重*（weight），权重决定了每个特征对我们预测值的影响。\n",
    "- $b$称为*偏置*（bias）、*偏移量*（offset）或*截距*（intercept）。偏置是指当所有特征都取值为0时，预测值应该为多少。\n",
    "\n",
    "\n",
    "\n",
    "目标：\n",
    "- 使用给定数据集，寻找模型的权重$\\mathbf{w}$和偏置$b$\n",
    "- 使得根据模型做出的预测大体符合数据里的真实价格。\n"
   ]
  },
  {
   "cell_type": "markdown",
   "id": "23065990",
   "metadata": {
    "slideshow": {
     "slide_type": "slide"
    }
   },
   "source": [
    "### 损失函数\n",
    "\n",
    "#### 均方误差 MSE（mean squared error）\n",
    "\n",
    "在我们开始考虑如何用模型*拟合*（fit）数据之前，我们需要确定一个拟合程度的**度量**。\n",
    "- *损失函数*（loss function）能够量化目标的*实际*值与*预测*值之间的差距。\n",
    "- 通常我们会选择非负数作为损失，且数值越小表示损失越小，完美预测时的损失为0。\n",
    "- 回归问题中最常用的损失函数是平方误差函数。\n",
    "- 当样本$i$的预测值为$\\hat{y}^{(i)}$，其相应的真实标签为$y^{(i)}$时，\n",
    "平方误差可以定义为以下公式：\n",
    "\n",
    "$$l^{(i)}(\\mathbf{w}, b) = \\frac{1}{2} \\left(\\hat{y}^{(i)} - y^{(i)}\\right)^2.$$\n",
    "\n",
    "<!-- <div align=center>\n",
    "    <img src=\"../../../d2l-zh/pytorch/img/fit-linreg.svg\" alt=\"用线性模型拟合数据\" style=\"zoom:120%;\" />\n",
    "</div> -->\n",
    "\n",
    "- 为了度量模型在整个数据集上的质量，我们需计算在训练集$n$个样本上的损失均值（也等价于求和）。\n",
    "\n",
    "$$L(\\mathbf{w}, b) =\\frac{1}{n}\\sum_{i=1}^n l^{(i)}(\\mathbf{w}, b) =\\frac{1}{n} \\sum_{i=1}^n \\frac{1}{2}\\left(\\mathbf{w}^\\top \\mathbf{x}^{(i)} + b - y^{(i)}\\right)^2.$$\n",
    "\n",
    "- 在训练模型时，我们希望寻找一组参数（$\\mathbf{w}^*, b^*$），这组参数能最小化在所有训练样本上的总损失。如下式：\n",
    "\n",
    "$$\\mathbf{w}^*, b^* = \\operatorname*{argmin}_{\\mathbf{w}, b}\\  L(\\mathbf{w}, b).$$"
   ]
  },
  {
   "cell_type": "code",
   "execution_count": 230,
   "id": "9de4b91f",
   "metadata": {
    "scrolled": true
   },
   "outputs": [
    {
     "name": "stdout",
     "output_type": "stream",
     "text": [
      "MSELoss =  1.0\n"
     ]
    },
    {
     "data": {
      "text/plain": [
       "tensor(1.9076)"
      ]
     },
     "execution_count": 230,
     "metadata": {},
     "output_type": "execute_result"
    }
   ],
   "source": [
    "import torch\n",
    "y = torch.tensor([1,2,3],dtype = torch.float)\n",
    "y_hat = torch.tensor([2,3,4],dtype = torch.float)\n",
    "loss = torch.nn.MSELoss(reduction='mean')\n",
    "print('MSELoss = ',loss(y_hat,y).item())\n",
    "\n",
    "loss_2 = torch.nn.CrossEntropyLoss()\n",
    "loss_2(torch.cat((y_hat,y),dim=0).reshape(2,-1),torch.tensor([1,0]))"
   ]
  },
  {
   "cell_type": "markdown",
   "id": "dada71e9",
   "metadata": {
    "slideshow": {
     "slide_type": "slide"
    }
   },
   "source": [
    "### 梯度下降\n",
    "\n",
    "- 用到一种名为*梯度下降*（gradient descent）的方法，这种方法几乎可以优化所有深度学习模型。\n",
    "- 它通过不断地在损失函数递减的方向上更新参数来降低误差。\n",
    "- 梯度下降最简单的用法是计算损失函数（数据集中所有样本的损失均值）关于模型参数的导数（在这里也可以称为梯度）。\n",
    "\n",
    "- 我们用下面的数学公式来表示这一更新过程（$\\partial$表示偏导数）：\n",
    "\n",
    "$$(\\mathbf{w},b) \\leftarrow (\\mathbf{w},b) - \\mathcal{lr}\\sum_{i \\in \\mathcal{B}} \\partial_{(\\mathbf{w},b)} l^{(i)}(\\mathbf{w},b).$$\n",
    "\n",
    "总结一下，算法的步骤如下：\n",
    "\n",
    "（1）初始化模型参数的值，如随机初始化；\n",
    "\n",
    "（2）利用数据集在负梯度的方向上更新参数，并不断迭代这一步骤。"
   ]
  },
  {
   "cell_type": "code",
   "execution_count": 51,
   "id": "151dc82f",
   "metadata": {
    "slideshow": {
     "slide_type": "slide"
    }
   },
   "outputs": [],
   "source": [
    "import matplotlib.pyplot as plt\n",
    "import torch\n",
    "\n",
    "x = torch.linspace(-2, 2, steps =100,requires_grad=True) \n",
    "y = x**2\n",
    "y.backward(torch.ones_like(x))"
   ]
  },
  {
   "cell_type": "code",
   "execution_count": 57,
   "id": "d6c3bd3b",
   "metadata": {
    "slideshow": {
     "slide_type": "-"
    }
   },
   "outputs": [
    {
     "data": {
      "image/png": "[encoded data removed]",
      "text/plain": [
       "<Figure size 432x288 with 2 Axes>"
      ]
     },
     "metadata": {
      "needs_background": "light"
     },
     "output_type": "display_data"
    }
   ],
   "source": [
    "z = x.grad\n",
    "# 激活第一个 subplot\n",
    "plt.subplot(2,  1,  1)  \n",
    "# 绘制第一个图像 \n",
    "plt.plot(x.detach().numpy(), y.detach().numpy()) \n",
    "plt.title('Loss')  \n",
    "# 将第二个 subplot 激活，并绘制第二个图像\n",
    "plt.subplot(2,  1,  2) \n",
    "plt.plot(x.detach().numpy(),-z)\n",
    "plt.title('grad')  \n",
    "# 展示图像\n",
    "plt.tight_layout() \n",
    "plt.show()"
   ]
  },
  {
   "cell_type": "markdown",
   "id": "79a9ec10",
   "metadata": {
    "slideshow": {
     "slide_type": "slide"
    }
   },
   "source": [
    "# <center>模型 = 框架 + 参数</center>\n",
    "## 所以保存模型就是保存模型的框架与所有涉及到参数的值\n",
    "\n",
    "\n",
    "### 用模型进行预测\n",
    "\n",
    "- 给定“已学习”的线性回归模型$\\hat{\\mathbf{w}}^\\top \\mathbf{x} + \\hat{b}$，我们就可以通过房屋面积$x_1$和房龄$x_2$来估计一个（未包含在训练数据中的）新房屋价格。\n",
    "- 给定特征估计目标的过程通常称为*预测*（prediction）或*推断*（inference）。"
   ]
  },
  {
   "cell_type": "markdown",
   "id": "faab4044",
   "metadata": {
    "slideshow": {
     "slide_type": "slide"
    }
   },
   "source": [
    "<div align=center>\n",
    "    <img src=\"images/图像识别/幻灯片7.JPG\" alt=\"幻灯片\" style=\"zoom:120%;\" />"
   ]
  },
  {
   "cell_type": "markdown",
   "id": "aa50d5d3",
   "metadata": {
    "slideshow": {
     "slide_type": "slide"
    }
   },
   "source": [
    "<div align=center>\n",
    "    <img src=\"images/图像识别/幻灯片8.JPG\" alt=\"幻灯片\" style=\"zoom:120%;\" />"
   ]
  },
  {
   "cell_type": "markdown",
   "id": "9c268628",
   "metadata": {
    "slideshow": {
     "slide_type": "slide"
    }
   },
   "source": [
    "<div align=center>\n",
    "    <img src=\"images/图像识别/幻灯片9.JPG\" alt=\"幻灯片\" style=\"zoom:120%;\" />"
   ]
  },
  {
   "cell_type": "markdown",
   "id": "fb826a66",
   "metadata": {
    "slideshow": {
     "slide_type": "slide"
    }
   },
   "source": [
    "<div align=center>\n",
    "    <img src=\"images/图像识别/幻灯片10.JPG\" alt=\"幻灯片\" style=\"zoom:120%;\" />"
   ]
  },
  {
   "cell_type": "code",
   "execution_count": 74,
   "id": "d037b50c",
   "metadata": {
    "scrolled": false,
    "slideshow": {
     "slide_type": "slide"
    }
   },
   "outputs": [
    {
     "data": {
      "text/plain": [
       "Text(0.5, 1.0, 'Sigmod')"
      ]
     },
     "execution_count": 74,
     "metadata": {},
     "output_type": "execute_result"
    },
    {
     "data": {
      "image/png": "[encoded data removed]",
      "text/plain": [
       "<Figure size 800x640 with 2 Axes>"
      ]
     },
     "metadata": {
      "needs_background": "light"
     },
     "output_type": "display_data"
    }
   ],
   "source": [
    "fig = plt.figure(figsize=(10,8), dpi= 80)\n",
    "plt.subplot(2,  1,  1)  \n",
    "x = torch.arange(-8.0, 8.0, 0.1, requires_grad=True)\n",
    "y = torch.relu(x)\n",
    "plt.plot(x.detach(), y.detach())\n",
    "plt.title('ReLU')\n",
    "\n",
    "plt.subplot(2,  1, 2)  \n",
    "y = torch.sigmoid(x)\n",
    "plt.plot(x.detach(), y.detach())\n",
    "plt.title('Sigmod')"
   ]
  },
  {
   "cell_type": "markdown",
   "id": "e0e9e1c4",
   "metadata": {
    "slideshow": {
     "slide_type": "slide"
    }
   },
   "source": [
    "<div align=center>\n",
    "    <img src=\"images/图像识别/幻灯片11.JPG\" alt=\"幻灯片\" style=\"zoom:80%;\" />"
   ]
  },
  {
   "cell_type": "code",
   "execution_count": 156,
   "id": "170bcac2",
   "metadata": {
    "slideshow": {
     "slide_type": "-"
    }
   },
   "outputs": [
    {
     "name": "stdout",
     "output_type": "stream",
     "text": [
      "The result is tensor(0.)\n"
     ]
    },
    {
     "data": {
      "text/plain": [
       "tensor(-0.5000)"
      ]
     },
     "execution_count": 156,
     "metadata": {},
     "output_type": "execute_result"
    }
   ],
   "source": [
    "import numpy as np\n",
    "import torch\n",
    "\n",
    "# 定义单个神经元 2输入\n",
    "net = torch.nn.Sequential(torch.nn.Linear(2,1), torch.nn.ReLU())#torch.nn.Hardtanh(min_val=0,max_val=3,inplace=True)) #\n",
    "\n",
    "# 定义权重\n",
    "w = torch.tensor([1,1]).type(torch.float32)\n",
    "b = -0.5\n",
    "\n",
    "net[0].weight.data = w.reshape(net[0].weight.shape)\n",
    "net[0].bias.data.fill_(b)\n",
    "\n",
    "# 验证输出\n",
    "x = torch.tensor([0.0, 0.0]).type(torch.float32)\n",
    "print('The result is', net.forward(x).data[0].data)\n",
    "\n",
    "torch.matmul(x, w) + b\n"
   ]
  },
  {
   "cell_type": "markdown",
   "id": "d930b783",
   "metadata": {
    "slideshow": {
     "slide_type": "slide"
    }
   },
   "source": [
    "<div align=center>\n",
    "    <img src=\"images/图像识别/幻灯片12.JPG\" alt=\"幻灯片\" style=\"zoom:120%;\" />"
   ]
  },
  {
   "cell_type": "code",
   "execution_count": 328,
   "id": "b1afff2b",
   "metadata": {},
   "outputs": [],
   "source": [
    "import torch\n",
    "import matplotlib.pyplot as plt # 绘图与图像显示\n",
    "import torch.utils.data as Data # 数据操作\n",
    "from torchvision.datasets import MNIST,FashionMNIST # 数据集\n",
    "from torchvision import transforms # 图像变换、数据预处理"
   ]
  },
  {
   "cell_type": "markdown",
   "id": "78a6bbbc",
   "metadata": {},
   "source": [
    "- torchvision 中的 transforms 模块可以针对每张图像进行预处理操作"
   ]
  },
  {
   "cell_type": "code",
   "execution_count": 233,
   "id": "38b28b52",
   "metadata": {},
   "outputs": [],
   "source": [
    "#Compose是一个容器，传入的参数是列表，ToTensor()，类型变换，Normalize是数据标准化，去均值，除标准差\n",
    "transform = transforms.Compose([transforms.ToTensor()])"
   ]
  },
  {
   "cell_type": "code",
   "execution_count": 400,
   "id": "20522518",
   "metadata": {},
   "outputs": [],
   "source": [
    "data_train = MNIST(root = \"data/\", ## 数据的路径，如果存在数据则加载，否则下载至此路径\n",
    "                            transform = transform, ## 图像变换操作\n",
    "                            train =True, ## 决定使用训练集还是测试集\n",
    "                            download = True) ## 选择是否需要下载数据\n",
    "data_test = MNIST(root = \"data/\",\n",
    "                            transform = transform,\n",
    "                            train =False)"
   ]
  },
  {
   "cell_type": "code",
   "execution_count": 401,
   "id": "c93da8a9",
   "metadata": {},
   "outputs": [],
   "source": [
    "## 定义数据加载器\n",
    "batch_size = 256\n",
    "\n",
    "train_loader = Data.DataLoader(dataset = data_train, ## 使用的数据集\n",
    "                                            batch_size = batch_size, ## 批处理样本大小\n",
    "                                            shuffle = True ## 是否打乱数据顺序\n",
    "                                            )\n",
    "\n",
    "test_loader = Data.DataLoader(dataset = data_test,\n",
    "                                            batch_size = batch_size,\n",
    "                                            shuffle = True  #将顺序随机打乱\n",
    "                                            )"
   ]
  },
  {
   "cell_type": "code",
   "execution_count": 402,
   "id": "6587d9c3",
   "metadata": {},
   "outputs": [],
   "source": [
    "net = nn.Sequential(nn.Flatten(), ## 将二维图像展平位一维数组，输入层\n",
    "                    nn.Linear(in_features = 784, ## 隐藏层的输入，数据的特征数\n",
    "                              out_features = 512, ## 隐藏层的输出，对应神经元的数量\n",
    "                             bias = True\n",
    "                             ),  ## \n",
    "                    nn.ReLU(), ## 激活函数\n",
    "                    nn.Dropout(p=0.2),\n",
    "                    nn.Linear(512,512), nn.ReLU(),nn.Dropout(p=0.2),nn.Linear(512,10)) # 深度网络模型\n",
    "\n",
    "# net = nn.Sequential(nn.Flatten(), nn.Linear(784, 256), nn.ReLU(), nn.Linear(256, 10)) # MLP模型\n",
    "\n",
    "# net = nn.Sequential(nn.Flatten(), nn.Linear(784, 10)) # softmax回归模型"
   ]
  },
  {
   "cell_type": "code",
   "execution_count": 403,
   "id": "f1af3285",
   "metadata": {},
   "outputs": [],
   "source": [
    "## 初始化模型参数\n",
    "def init_weights(m):\n",
    "    if type(m) == nn.Linear:\n",
    "        nn.init.normal_(m.weight, std=0.01)\n",
    "\n",
    "net.apply(init_weights);"
   ]
  },
  {
   "cell_type": "code",
   "execution_count": 404,
   "id": "a995200f",
   "metadata": {},
   "outputs": [
    {
     "name": "stdout",
     "output_type": "stream",
     "text": [
      "Epoch 1/20\n",
      "----------\n",
      "Loss is:1.8253, Train_accuracy is 43.2317%, Test_accuracy is 75.4800%\n",
      "Epoch 2/20\n",
      "----------\n",
      "Loss is:0.5356, Train_accuracy is 84.0050%, Test_accuracy is 87.2400%\n",
      "Epoch 3/20\n",
      "----------\n",
      "Loss is:0.3770, Train_accuracy is 89.0167%, Test_accuracy is 90.4100%\n",
      "Epoch 4/20\n",
      "----------\n",
      "Loss is:0.3132, Train_accuracy is 90.9583%, Test_accuracy is 91.8400%\n",
      "Epoch 5/20\n",
      "----------\n",
      "Loss is:0.2623, Train_accuracy is 92.4100%, Test_accuracy is 93.0700%\n",
      "Epoch 6/20\n",
      "----------\n",
      "Loss is:0.2221, Train_accuracy is 93.6733%, Test_accuracy is 93.9900%\n",
      "Epoch 7/20\n",
      "----------\n",
      "Loss is:0.1937, Train_accuracy is 94.3850%, Test_accuracy is 94.2500%\n",
      "Epoch 8/20\n",
      "----------\n",
      "Loss is:0.1712, Train_accuracy is 94.9967%, Test_accuracy is 95.1800%\n",
      "Epoch 9/20\n",
      "----------\n",
      "Loss is:0.1529, Train_accuracy is 95.6067%, Test_accuracy is 95.2900%\n",
      "Epoch 10/20\n",
      "----------\n",
      "Loss is:0.1384, Train_accuracy is 95.9033%, Test_accuracy is 95.6500%\n",
      "Epoch 11/20\n",
      "----------\n",
      "Loss is:0.1262, Train_accuracy is 96.3067%, Test_accuracy is 95.6500%\n",
      "Epoch 12/20\n",
      "----------\n",
      "Loss is:0.1161, Train_accuracy is 96.6217%, Test_accuracy is 96.3400%\n",
      "Epoch 13/20\n",
      "----------\n",
      "Loss is:0.1078, Train_accuracy is 96.8033%, Test_accuracy is 96.6200%\n",
      "Epoch 14/20\n",
      "----------\n",
      "Loss is:0.0983, Train_accuracy is 97.1283%, Test_accuracy is 96.5000%\n",
      "Epoch 15/20\n",
      "----------\n",
      "Loss is:0.0929, Train_accuracy is 97.2167%, Test_accuracy is 96.6100%\n",
      "Epoch 16/20\n",
      "----------\n",
      "Loss is:0.0874, Train_accuracy is 97.4233%, Test_accuracy is 96.8300%\n",
      "Epoch 17/20\n",
      "----------\n",
      "Loss is:0.0813, Train_accuracy is 97.6283%, Test_accuracy is 96.9300%\n",
      "Epoch 18/20\n",
      "----------\n",
      "Loss is:0.0774, Train_accuracy is 97.7400%, Test_accuracy is 97.1000%\n",
      "Epoch 19/20\n",
      "----------\n",
      "Loss is:0.0727, Train_accuracy is 97.9000%, Test_accuracy is 97.1800%\n",
      "Epoch 20/20\n",
      "----------\n",
      "Loss is:0.0696, Train_accuracy is 97.9483%, Test_accuracy is 96.6400%\n"
     ]
    }
   ],
   "source": [
    "lr, num_epochs = 0.1, 20 ## 定义学习率及训练次数\n",
    "optimizer = torch.optim.SGD(net.parameters(), lr = lr) ## 定义优化器\n",
    "loss_func = nn.CrossEntropyLoss(reduction='mean') ## 定义损失函数，分类问题一般使用交叉熵损失\n",
    "\n",
    "train_loss_all = []\n",
    "train_acc_all = []\n",
    "test_acc_all = []\n",
    "\n",
    "for epoch in range(num_epochs):\n",
    "    print(\"Epoch {}/{}\".format(epoch+1,num_epochs))\n",
    "    print(\"-\"*10)\n",
    "    \n",
    "    running_loss = 0.0\n",
    "    running_correct = 0.0\n",
    "    \n",
    "    for X, y in train_loader:\n",
    "        net.train() ## 表明模型在训练\n",
    "        output = net(X) ## 模型在 X 上的输出: N * num_class\n",
    "        train_loss = loss_func(output, y ) ## 交叉熵误差\n",
    "        _, pred = torch.max(output.data, 1) ## 获得预测结果\n",
    "        optimizer.zero_grad() ## 每次迭代将梯度初始化为0\n",
    "        train_loss.backward() ## 损失的后向传播， 计算梯度\n",
    "        optimizer.step() ## 使用梯度进行优化\n",
    "        running_loss += train_loss.item() ## 统计模型预测损失\n",
    "        running_correct += torch.sum(pred == y.data) ## 统计模型预测准确个数\n",
    "        \n",
    "    test_correct = 0\n",
    "    for data in test_loader:\n",
    "        X_test, y_test = data\n",
    "        \n",
    "        output = net(X_test)\n",
    "        _, pred = torch.max(output.data, 1)\n",
    "        test_correct += torch.sum(pred == y_test.data)\n",
    "    print(\"Loss is:{:.4f}, Train_accuracy is {:.4f}%, Test_accuracy is {:.4f}%\"\n",
    "          .format(running_loss/len(train_loader),100*running_correct/len(data_train), 100*test_correct/len(data_test)))\n",
    "    train_loss_all.append(running_loss/len(train_loader))\n",
    "    train_acc_all.append(running_correct/len(data_train))\n",
    "    test_acc_all.append(test_correct/len(data_test))"
   ]
  },
  {
   "cell_type": "code",
   "execution_count": 405,
   "id": "b2ddc96a",
   "metadata": {},
   "outputs": [
    {
     "data": {
      "image/png": "[encoded data removed]",
      "text/plain": [
       "<Figure size 432x288 with 2 Axes>"
      ]
     },
     "metadata": {
      "needs_background": "light"
     },
     "output_type": "display_data"
    }
   ],
   "source": [
    "# plotting the metrics\n",
    "fig = plt.figure()\n",
    "plt.subplot(2,1,1)\n",
    "plt.plot(train_acc_all)\n",
    "plt.plot(test_acc_all)\n",
    "plt.title('model accuracy')\n",
    "plt.ylabel('accuracy')\n",
    "plt.xlabel('epoch')\n",
    "plt.legend(['train', 'test'], loc='lower right')\n",
    "\n",
    "plt.subplot(2,1,2)\n",
    "plt.plot(train_loss_all)\n",
    "# plt.plot(history.history['val_loss'])\n",
    "plt.title('model loss')\n",
    "plt.ylabel('loss')\n",
    "plt.xlabel('epoch')\n",
    "plt.legend(['train'], loc='upper right')\n",
    "# plt.legend(['train', 'test'], loc='upper right')\n",
    "\n",
    "plt.tight_layout()\n",
    "\n",
    "# fig"
   ]
  },
  {
   "cell_type": "code",
   "execution_count": 306,
   "id": "806f5dbf",
   "metadata": {},
   "outputs": [],
   "source": [
    "for x,y in train_loader:\n",
    "    break"
   ]
  },
  {
   "cell_type": "code",
   "execution_count": 312,
   "id": "b59f0086",
   "metadata": {},
   "outputs": [
    {
     "data": {
      "image/png": "[encoded data removed]",
      "text/plain": [
       "<Figure size 432x288 with 1 Axes>"
      ]
     },
     "metadata": {
      "needs_background": "light"
     },
     "output_type": "display_data"
    }
   ],
   "source": [
    "plt.imshow(x[0].numpy().reshape(28,28))\n",
    "plt.show()"
   ]
  }
 ],
 "metadata": {
  "celltoolbar": "原始单元格格式",
  "kernelspec": {
   "display_name": "Python 3 (ipykernel)",
   "language": "python",
   "name": "python3"
  },
  "language_info": {
   "codemirror_mode": {
    "name": "ipython",
    "version": 3
   },
   "file_extension": ".py",
   "mimetype": "text/x-python",
   "name": "python",
   "nbconvert_exporter": "python",
   "pygments_lexer": "ipython3",
   "version": "3.9.9"
  },
  "rise": {
   "enable_chalkboard": true
  }
 },
 "nbformat": 4,
 "nbformat_minor": 5
}
